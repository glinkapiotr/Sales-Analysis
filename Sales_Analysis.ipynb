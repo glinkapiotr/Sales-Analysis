{
  "nbformat": 4,
  "nbformat_minor": 0,
  "metadata": {
    "colab": {
      "name": "Sales Analysis.ipynb",
      "provenance": [],
      "collapsed_sections": [],
      "authorship_tag": "ABX9TyPsludyQQRj+0ciazxZWkxQ",
      "include_colab_link": true
    },
    "kernelspec": {
      "name": "python3",
      "display_name": "Python 3"
    }
  },
  "cells": [
    {
      "cell_type": "markdown",
      "metadata": {
        "id": "view-in-github",
        "colab_type": "text"
      },
      "source": [
        "<a href=\"https://colab.research.google.com/github/glinkapiotr/Sales-Analysis/blob/master/Sales_Analysis.ipynb\" target=\"_parent\"><img src=\"https://colab.research.google.com/assets/colab-badge.svg\" alt=\"Open In Colab\"/></a>"
      ]
    },
    {
      "cell_type": "code",
      "metadata": {
        "id": "59vLf3bTj8AP",
        "colab_type": "code",
        "colab": {}
      },
      "source": [
        "#import of libraries\n",
        "import pandas as pd\n",
        "import numpy as np\n",
        "import os"
      ],
      "execution_count": 41,
      "outputs": []
    },
    {
      "cell_type": "code",
      "metadata": {
        "id": "fP4PBvm1rMzk",
        "colab_type": "code",
        "colab": {
          "base_uri": "https://localhost:8080/",
          "height": 259
        },
        "outputId": "77039ae7-5d38-492a-9e76-25d683de18bf"
      },
      "source": [
        "os.listdir('./Sales_Data')"
      ],
      "execution_count": 43,
      "outputs": [
        {
          "output_type": "execute_result",
          "data": {
            "text/plain": [
              "['Sales_August_2019.csv',\n",
              " 'Sales_March_2019.csv',\n",
              " 'Sales_May_2019.csv',\n",
              " 'Sales_November_2019.csv',\n",
              " 'Sales_February_2019.csv',\n",
              " 'Sales_July_2019.csv',\n",
              " 'Sales_April_2019.csv',\n",
              " 'Sales_December_2019.csv',\n",
              " 'Sales_June_2019.csv',\n",
              " 'Sales_October_2019.csv',\n",
              " 'Sales_September_2019.csv',\n",
              " '.ipynb_checkpoints',\n",
              " 'Sales_January_2019.csv']"
            ]
          },
          "metadata": {
            "tags": []
          },
          "execution_count": 43
        }
      ]
    },
    {
      "cell_type": "code",
      "metadata": {
        "id": "kZPdqZkZkMuF",
        "colab_type": "code",
        "colab": {
          "base_uri": "https://localhost:8080/",
          "height": 448
        },
        "outputId": "7fd3be10-1034-4633-f244-fedfbc2934ff"
      },
      "source": [
        "#merging of 12 files of Sales_Data to 1 file\n",
        "files = [file for file in os.listdir('./Sales_Data')]\n",
        "#listing the files in directory\n",
        "for file in files:\n",
        "  print(file)\n",
        "#definition of empty dataframe\n",
        "all_data=pd.DataFrame()\n",
        "\n",
        "#merging files\n",
        "for file in files:\n",
        "  if file != '.ipynb_checkpoints' or file != '.all_data.csv':\n",
        "    df= pd.read_csv('./Sales_Data/' + file, engine = 'python')\n",
        "    all_data= pd.concat([all_data, df])\n",
        "\n",
        "#writing data to a single csv\n",
        "all_data.to_csv(\"./Sales_Data/all_data.csv\", index = False)\n",
        "all_data.head()"
      ],
      "execution_count": 44,
      "outputs": [
        {
          "output_type": "stream",
          "text": [
            "Sales_August_2019.csv\n",
            "Sales_March_2019.csv\n",
            "Sales_May_2019.csv\n",
            "Sales_November_2019.csv\n",
            "Sales_February_2019.csv\n",
            "Sales_July_2019.csv\n",
            "Sales_April_2019.csv\n",
            "Sales_December_2019.csv\n",
            "Sales_June_2019.csv\n",
            "Sales_October_2019.csv\n",
            "Sales_September_2019.csv\n",
            ".ipynb_checkpoints\n",
            "Sales_January_2019.csv\n"
          ],
          "name": "stdout"
        },
        {
          "output_type": "execute_result",
          "data": {
            "text/html": [
              "<div>\n",
              "<style scoped>\n",
              "    .dataframe tbody tr th:only-of-type {\n",
              "        vertical-align: middle;\n",
              "    }\n",
              "\n",
              "    .dataframe tbody tr th {\n",
              "        vertical-align: top;\n",
              "    }\n",
              "\n",
              "    .dataframe thead th {\n",
              "        text-align: right;\n",
              "    }\n",
              "</style>\n",
              "<table border=\"1\" class=\"dataframe\">\n",
              "  <thead>\n",
              "    <tr style=\"text-align: right;\">\n",
              "      <th></th>\n",
              "      <th>Order ID</th>\n",
              "      <th>Product</th>\n",
              "      <th>Quantity Ordered</th>\n",
              "      <th>Price Each</th>\n",
              "      <th>Order Date</th>\n",
              "      <th>Purchase Address</th>\n",
              "    </tr>\n",
              "  </thead>\n",
              "  <tbody>\n",
              "    <tr>\n",
              "      <th>0</th>\n",
              "      <td>236670</td>\n",
              "      <td>Wired Headphones</td>\n",
              "      <td>2</td>\n",
              "      <td>11.99</td>\n",
              "      <td>08/31/19 22:21</td>\n",
              "      <td>359 Spruce St, Seattle, WA 98101</td>\n",
              "    </tr>\n",
              "    <tr>\n",
              "      <th>1</th>\n",
              "      <td>236671</td>\n",
              "      <td>Bose SoundSport Headphones</td>\n",
              "      <td>1</td>\n",
              "      <td>99.99</td>\n",
              "      <td>08/15/19 15:11</td>\n",
              "      <td>492 Ridge St, Dallas, TX 75001</td>\n",
              "    </tr>\n",
              "    <tr>\n",
              "      <th>2</th>\n",
              "      <td>236672</td>\n",
              "      <td>iPhone</td>\n",
              "      <td>1</td>\n",
              "      <td>700.0</td>\n",
              "      <td>08/06/19 14:40</td>\n",
              "      <td>149 7th St, Portland, OR 97035</td>\n",
              "    </tr>\n",
              "    <tr>\n",
              "      <th>3</th>\n",
              "      <td>236673</td>\n",
              "      <td>AA Batteries (4-pack)</td>\n",
              "      <td>2</td>\n",
              "      <td>3.84</td>\n",
              "      <td>08/29/19 20:59</td>\n",
              "      <td>631 2nd St, Los Angeles, CA 90001</td>\n",
              "    </tr>\n",
              "    <tr>\n",
              "      <th>4</th>\n",
              "      <td>236674</td>\n",
              "      <td>AA Batteries (4-pack)</td>\n",
              "      <td>2</td>\n",
              "      <td>3.84</td>\n",
              "      <td>08/15/19 19:53</td>\n",
              "      <td>736 14th St, New York City, NY 10001</td>\n",
              "    </tr>\n",
              "  </tbody>\n",
              "</table>\n",
              "</div>"
            ],
            "text/plain": [
              "  Order ID  ...                      Purchase Address\n",
              "0   236670  ...      359 Spruce St, Seattle, WA 98101\n",
              "1   236671  ...        492 Ridge St, Dallas, TX 75001\n",
              "2   236672  ...        149 7th St, Portland, OR 97035\n",
              "3   236673  ...     631 2nd St, Los Angeles, CA 90001\n",
              "4   236674  ...  736 14th St, New York City, NY 10001\n",
              "\n",
              "[5 rows x 6 columns]"
            ]
          },
          "metadata": {
            "tags": []
          },
          "execution_count": 44
        }
      ]
    },
    {
      "cell_type": "code",
      "metadata": {
        "id": "AdLP0XHToeck",
        "colab_type": "code",
        "colab": {
          "base_uri": "https://localhost:8080/",
          "height": 259
        },
        "outputId": "ce53279d-3446-47c9-eb48-4f8290f50081"
      },
      "source": [
        "all_data.info()"
      ],
      "execution_count": 45,
      "outputs": [
        {
          "output_type": "stream",
          "text": [
            "<class 'pandas.core.frame.DataFrame'>\n",
            "Int64Index: 186850 entries, 0 to 9722\n",
            "Data columns (total 6 columns):\n",
            " #   Column            Non-Null Count   Dtype \n",
            "---  ------            --------------   ----- \n",
            " 0   Order ID          186305 non-null  object\n",
            " 1   Product           186305 non-null  object\n",
            " 2   Quantity Ordered  186305 non-null  object\n",
            " 3   Price Each        186305 non-null  object\n",
            " 4   Order Date        186305 non-null  object\n",
            " 5   Purchase Address  186305 non-null  object\n",
            "dtypes: object(6)\n",
            "memory usage: 10.0+ MB\n"
          ],
          "name": "stdout"
        }
      ]
    },
    {
      "cell_type": "code",
      "metadata": {
        "id": "eXvQ03wUmNzR",
        "colab_type": "code",
        "colab": {
          "base_uri": "https://localhost:8080/",
          "height": 259
        },
        "outputId": "8fe1a612-4f63-471f-ab0d-148152c19817"
      },
      "source": [
        "#checking for missing data\n",
        "null_df = all_data[all_data.isna().any(axis=1)]\n",
        "null_df.head(20)\n",
        "null_df.info()\n",
        "#it appears that rows with missing values seem to have multiple NaN. 545 rows."
      ],
      "execution_count": 47,
      "outputs": [
        {
          "output_type": "stream",
          "text": [
            "<class 'pandas.core.frame.DataFrame'>\n",
            "Int64Index: 545 entries, 312 to 9664\n",
            "Data columns (total 6 columns):\n",
            " #   Column            Non-Null Count  Dtype \n",
            "---  ------            --------------  ----- \n",
            " 0   Order ID          0 non-null      object\n",
            " 1   Product           0 non-null      object\n",
            " 2   Quantity Ordered  0 non-null      object\n",
            " 3   Price Each        0 non-null      object\n",
            " 4   Order Date        0 non-null      object\n",
            " 5   Purchase Address  0 non-null      object\n",
            "dtypes: object(6)\n",
            "memory usage: 29.8+ KB\n"
          ],
          "name": "stdout"
        }
      ]
    },
    {
      "cell_type": "code",
      "metadata": {
        "id": "xisv3KPdowqX",
        "colab_type": "code",
        "colab": {
          "base_uri": "https://localhost:8080/",
          "height": 259
        },
        "outputId": "63df325e-75e5-4c12-b733-2ad0b8a04f57"
      },
      "source": [
        "#dropping the NaN rows\n",
        "all_data = all_data.dropna(how = 'all')\n",
        "all_data.info()"
      ],
      "execution_count": 48,
      "outputs": [
        {
          "output_type": "stream",
          "text": [
            "<class 'pandas.core.frame.DataFrame'>\n",
            "Int64Index: 186305 entries, 0 to 9722\n",
            "Data columns (total 6 columns):\n",
            " #   Column            Non-Null Count   Dtype \n",
            "---  ------            --------------   ----- \n",
            " 0   Order ID          186305 non-null  object\n",
            " 1   Product           186305 non-null  object\n",
            " 2   Quantity Ordered  186305 non-null  object\n",
            " 3   Price Each        186305 non-null  object\n",
            " 4   Order Date        186305 non-null  object\n",
            " 5   Purchase Address  186305 non-null  object\n",
            "dtypes: object(6)\n",
            "memory usage: 9.9+ MB\n"
          ],
          "name": "stdout"
        }
      ]
    },
    {
      "cell_type": "code",
      "metadata": {
        "id": "7NMPmAedvJbp",
        "colab_type": "code",
        "colab": {}
      },
      "source": [
        "#after NaN dropped, we need the month column\n",
        "all_data['Month']= all_data['Order Date'].str[0:2]\n",
        "all_data['Month'] = all_data['Month'].astype('int32')\n",
        "all_data.head()\n",
        "# recieved this error ValueError: invalid literal for int() with base 10: 'Or'\n",
        "#need to fix by filtering dataframe by itself with removed 'Or' values in 'Order Date' column\n"
      ],
      "execution_count": 63,
      "outputs": []
    },
    {
      "cell_type": "code",
      "metadata": {
        "id": "j-jEu67vwHDp",
        "colab_type": "code",
        "colab": {}
      },
      "source": [
        "#performing the filtering\n",
        "all_data = all_data[all_data['Order Date'].str[0:2] != 'Or' ]"
      ],
      "execution_count": 64,
      "outputs": []
    },
    {
      "cell_type": "markdown",
      "metadata": {
        "id": "tZcuF9cJlz11",
        "colab_type": "text"
      },
      "source": [
        "Question 1 : What was the best month for sales? How much was earned that month?"
      ]
    },
    {
      "cell_type": "code",
      "metadata": {
        "id": "UnwjXBgHmIMU",
        "colab_type": "code",
        "colab": {
          "base_uri": "https://localhost:8080/",
          "height": 278
        },
        "outputId": "a8e4586a-ba8a-4f9a-cf1f-1e6507eda692"
      },
      "source": [
        "#review of combined and filtered dataframe\n",
        "all_data.info()\n",
        "#month column added, as int32 type"
      ],
      "execution_count": 66,
      "outputs": [
        {
          "output_type": "stream",
          "text": [
            "<class 'pandas.core.frame.DataFrame'>\n",
            "Int64Index: 185950 entries, 0 to 9722\n",
            "Data columns (total 7 columns):\n",
            " #   Column            Non-Null Count   Dtype \n",
            "---  ------            --------------   ----- \n",
            " 0   Order ID          185950 non-null  object\n",
            " 1   Product           185950 non-null  object\n",
            " 2   Quantity Ordered  185950 non-null  object\n",
            " 3   Price Each        185950 non-null  object\n",
            " 4   Order Date        185950 non-null  object\n",
            " 5   Purchase Address  185950 non-null  object\n",
            " 6   Month             185950 non-null  int32 \n",
            "dtypes: int32(1), object(6)\n",
            "memory usage: 10.6+ MB\n"
          ],
          "name": "stdout"
        }
      ]
    },
    {
      "cell_type": "code",
      "metadata": {
        "id": "ETY1Ooeqlwne",
        "colab_type": "code",
        "colab": {
          "base_uri": "https://localhost:8080/",
          "height": 315
        },
        "outputId": "644ed0d8-f231-45dc-f82e-3a8d746c3e4a"
      },
      "source": [
        "# need to add sales value column. Data types must be taken into consideration\n",
        "all_data['Quantity Ordered']= all_data['Quantity Ordered'].astype(float)\n",
        "all_data['Price Each'] = all_data['Price Each'].astype(float)\n",
        "all_data['Sales Value $'] = all_data['Quantity Ordered'] * all_data['Price Each']\n",
        "all_data.info()\n"
      ],
      "execution_count": 97,
      "outputs": [
        {
          "output_type": "stream",
          "text": [
            "<class 'pandas.core.frame.DataFrame'>\n",
            "Int64Index: 185950 entries, 0 to 9722\n",
            "Data columns (total 9 columns):\n",
            " #   Column            Non-Null Count   Dtype  \n",
            "---  ------            --------------   -----  \n",
            " 0   Order ID          185950 non-null  object \n",
            " 1   Product           185950 non-null  object \n",
            " 2   Quantity Ordered  185950 non-null  float64\n",
            " 3   Price Each        185950 non-null  float64\n",
            " 4   Order Date        185950 non-null  object \n",
            " 5   Purchase Address  185950 non-null  object \n",
            " 6   Month             185950 non-null  int32  \n",
            " 7   Sales Value $     185950 non-null  float64\n",
            " 8   City              185950 non-null  object \n",
            "dtypes: float64(3), int32(1), object(5)\n",
            "memory usage: 13.5+ MB\n"
          ],
          "name": "stdout"
        }
      ]
    },
    {
      "cell_type": "code",
      "metadata": {
        "id": "CRO1EQLxxzqr",
        "colab_type": "code",
        "colab": {
          "base_uri": "https://localhost:8080/",
          "height": 457
        },
        "outputId": "0c17032a-5190-4d74-f74a-f4099440e714"
      },
      "source": [
        "#list of months with summed Sales Value column\n",
        "results = all_data.groupby('Month').sum()\n",
        "results"
      ],
      "execution_count": 98,
      "outputs": [
        {
          "output_type": "execute_result",
          "data": {
            "text/html": [
              "<div>\n",
              "<style scoped>\n",
              "    .dataframe tbody tr th:only-of-type {\n",
              "        vertical-align: middle;\n",
              "    }\n",
              "\n",
              "    .dataframe tbody tr th {\n",
              "        vertical-align: top;\n",
              "    }\n",
              "\n",
              "    .dataframe thead th {\n",
              "        text-align: right;\n",
              "    }\n",
              "</style>\n",
              "<table border=\"1\" class=\"dataframe\">\n",
              "  <thead>\n",
              "    <tr style=\"text-align: right;\">\n",
              "      <th></th>\n",
              "      <th>Quantity Ordered</th>\n",
              "      <th>Price Each</th>\n",
              "      <th>Sales Value $</th>\n",
              "    </tr>\n",
              "    <tr>\n",
              "      <th>Month</th>\n",
              "      <th></th>\n",
              "      <th></th>\n",
              "      <th></th>\n",
              "    </tr>\n",
              "  </thead>\n",
              "  <tbody>\n",
              "    <tr>\n",
              "      <th>1</th>\n",
              "      <td>10903.0</td>\n",
              "      <td>1.811768e+06</td>\n",
              "      <td>1.822257e+06</td>\n",
              "    </tr>\n",
              "    <tr>\n",
              "      <th>2</th>\n",
              "      <td>13449.0</td>\n",
              "      <td>2.188885e+06</td>\n",
              "      <td>2.202022e+06</td>\n",
              "    </tr>\n",
              "    <tr>\n",
              "      <th>3</th>\n",
              "      <td>17005.0</td>\n",
              "      <td>2.791208e+06</td>\n",
              "      <td>2.807100e+06</td>\n",
              "    </tr>\n",
              "    <tr>\n",
              "      <th>4</th>\n",
              "      <td>20558.0</td>\n",
              "      <td>3.367671e+06</td>\n",
              "      <td>3.390670e+06</td>\n",
              "    </tr>\n",
              "    <tr>\n",
              "      <th>5</th>\n",
              "      <td>18667.0</td>\n",
              "      <td>3.135125e+06</td>\n",
              "      <td>3.152607e+06</td>\n",
              "    </tr>\n",
              "    <tr>\n",
              "      <th>6</th>\n",
              "      <td>15253.0</td>\n",
              "      <td>2.562026e+06</td>\n",
              "      <td>2.577802e+06</td>\n",
              "    </tr>\n",
              "    <tr>\n",
              "      <th>7</th>\n",
              "      <td>16072.0</td>\n",
              "      <td>2.632540e+06</td>\n",
              "      <td>2.647776e+06</td>\n",
              "    </tr>\n",
              "    <tr>\n",
              "      <th>8</th>\n",
              "      <td>13448.0</td>\n",
              "      <td>2.230345e+06</td>\n",
              "      <td>2.244468e+06</td>\n",
              "    </tr>\n",
              "    <tr>\n",
              "      <th>9</th>\n",
              "      <td>13109.0</td>\n",
              "      <td>2.084992e+06</td>\n",
              "      <td>2.097560e+06</td>\n",
              "    </tr>\n",
              "    <tr>\n",
              "      <th>10</th>\n",
              "      <td>22703.0</td>\n",
              "      <td>3.715555e+06</td>\n",
              "      <td>3.736727e+06</td>\n",
              "    </tr>\n",
              "    <tr>\n",
              "      <th>11</th>\n",
              "      <td>19798.0</td>\n",
              "      <td>3.180601e+06</td>\n",
              "      <td>3.199603e+06</td>\n",
              "    </tr>\n",
              "    <tr>\n",
              "      <th>12</th>\n",
              "      <td>28114.0</td>\n",
              "      <td>4.588415e+06</td>\n",
              "      <td>4.613443e+06</td>\n",
              "    </tr>\n",
              "  </tbody>\n",
              "</table>\n",
              "</div>"
            ],
            "text/plain": [
              "       Quantity Ordered    Price Each  Sales Value $\n",
              "Month                                               \n",
              "1               10903.0  1.811768e+06   1.822257e+06\n",
              "2               13449.0  2.188885e+06   2.202022e+06\n",
              "3               17005.0  2.791208e+06   2.807100e+06\n",
              "4               20558.0  3.367671e+06   3.390670e+06\n",
              "5               18667.0  3.135125e+06   3.152607e+06\n",
              "6               15253.0  2.562026e+06   2.577802e+06\n",
              "7               16072.0  2.632540e+06   2.647776e+06\n",
              "8               13448.0  2.230345e+06   2.244468e+06\n",
              "9               13109.0  2.084992e+06   2.097560e+06\n",
              "10              22703.0  3.715555e+06   3.736727e+06\n",
              "11              19798.0  3.180601e+06   3.199603e+06\n",
              "12              28114.0  4.588415e+06   4.613443e+06"
            ]
          },
          "metadata": {
            "tags": []
          },
          "execution_count": 98
        }
      ]
    },
    {
      "cell_type": "code",
      "metadata": {
        "id": "q_AMvZhgyLsU",
        "colab_type": "code",
        "colab": {
          "base_uri": "https://localhost:8080/",
          "height": 290
        },
        "outputId": "1cafad09-aff0-4552-83ca-3a0e378f2fcc"
      },
      "source": [
        "#plotting the sales values\n",
        "import matplotlib.pyplot as plt\n",
        "months = range(1,13)\n",
        "plt.bar(months, results['Sales Value $'])\n",
        "plt.xticks(months)\n",
        "plt.ylabel('Sales Value in $')\n",
        "plt.xlabel('Number of month')\n",
        "plt.show()"
      ],
      "execution_count": 99,
      "outputs": [
        {
          "output_type": "display_data",
          "data": {
            "image/png": "[encoded data removed]",
            "text/plain": [
              "<Figure size 432x288 with 1 Axes>"
            ]
          },
          "metadata": {
            "tags": [],
            "needs_background": "light"
          }
        }
      ]
    },
    {
      "cell_type": "markdown",
      "metadata": {
        "id": "ihlPonc9y4QG",
        "colab_type": "text"
      },
      "source": [
        "Answer : Highest sales value was noted in December"
      ]
    },
    {
      "cell_type": "markdown",
      "metadata": {
        "id": "IxQetoHPzA7v",
        "colab_type": "text"
      },
      "source": [
        "Question 2: What city had the highest number of sales"
      ]
    },
    {
      "cell_type": "code",
      "metadata": {
        "id": "2utz63nXzAV8",
        "colab_type": "code",
        "colab": {
          "base_uri": "https://localhost:8080/",
          "height": 206
        },
        "outputId": "32a8fcba-3492-4d43-f8a7-6f6d24ebd3b7"
      },
      "source": [
        "# it is necessary to extract city name column out of Purchase Address. City may have the same name in different states, state is also necessary to recieve.\n",
        "def get_city(address):\n",
        "  return address.split(', ')[1]\n",
        "def get_state(address):\n",
        "  state = (address.split(', ')[2])[0:2]\n",
        "  return state\n",
        "all_data['City']=all_data['Purchase Address'].apply(lambda x: f\"{get_city(x)} ({get_state(x)})\")\n",
        "all_data.head()"
      ],
      "execution_count": 100,
      "outputs": [
        {
          "output_type": "execute_result",
          "data": {
            "text/html": [
              "<div>\n",
              "<style scoped>\n",
              "    .dataframe tbody tr th:only-of-type {\n",
              "        vertical-align: middle;\n",
              "    }\n",
              "\n",
              "    .dataframe tbody tr th {\n",
              "        vertical-align: top;\n",
              "    }\n",
              "\n",
              "    .dataframe thead th {\n",
              "        text-align: right;\n",
              "    }\n",
              "</style>\n",
              "<table border=\"1\" class=\"dataframe\">\n",
              "  <thead>\n",
              "    <tr style=\"text-align: right;\">\n",
              "      <th></th>\n",
              "      <th>Order ID</th>\n",
              "      <th>Product</th>\n",
              "      <th>Quantity Ordered</th>\n",
              "      <th>Price Each</th>\n",
              "      <th>Order Date</th>\n",
              "      <th>Purchase Address</th>\n",
              "      <th>Month</th>\n",
              "      <th>Sales Value $</th>\n",
              "      <th>City</th>\n",
              "    </tr>\n",
              "  </thead>\n",
              "  <tbody>\n",
              "    <tr>\n",
              "      <th>0</th>\n",
              "      <td>236670</td>\n",
              "      <td>Wired Headphones</td>\n",
              "      <td>2.0</td>\n",
              "      <td>11.99</td>\n",
              "      <td>08/31/19 22:21</td>\n",
              "      <td>359 Spruce St, Seattle, WA 98101</td>\n",
              "      <td>8</td>\n",
              "      <td>23.98</td>\n",
              "      <td>Seattle (WA)</td>\n",
              "    </tr>\n",
              "    <tr>\n",
              "      <th>1</th>\n",
              "      <td>236671</td>\n",
              "      <td>Bose SoundSport Headphones</td>\n",
              "      <td>1.0</td>\n",
              "      <td>99.99</td>\n",
              "      <td>08/15/19 15:11</td>\n",
              "      <td>492 Ridge St, Dallas, TX 75001</td>\n",
              "      <td>8</td>\n",
              "      <td>99.99</td>\n",
              "      <td>Dallas (TX)</td>\n",
              "    </tr>\n",
              "    <tr>\n",
              "      <th>2</th>\n",
              "      <td>236672</td>\n",
              "      <td>iPhone</td>\n",
              "      <td>1.0</td>\n",
              "      <td>700.00</td>\n",
              "      <td>08/06/19 14:40</td>\n",
              "      <td>149 7th St, Portland, OR 97035</td>\n",
              "      <td>8</td>\n",
              "      <td>700.00</td>\n",
              "      <td>Portland (OR)</td>\n",
              "    </tr>\n",
              "    <tr>\n",
              "      <th>3</th>\n",
              "      <td>236673</td>\n",
              "      <td>AA Batteries (4-pack)</td>\n",
              "      <td>2.0</td>\n",
              "      <td>3.84</td>\n",
              "      <td>08/29/19 20:59</td>\n",
              "      <td>631 2nd St, Los Angeles, CA 90001</td>\n",
              "      <td>8</td>\n",
              "      <td>7.68</td>\n",
              "      <td>Los Angeles (CA)</td>\n",
              "    </tr>\n",
              "    <tr>\n",
              "      <th>4</th>\n",
              "      <td>236674</td>\n",
              "      <td>AA Batteries (4-pack)</td>\n",
              "      <td>2.0</td>\n",
              "      <td>3.84</td>\n",
              "      <td>08/15/19 19:53</td>\n",
              "      <td>736 14th St, New York City, NY 10001</td>\n",
              "      <td>8</td>\n",
              "      <td>7.68</td>\n",
              "      <td>New York City (NY)</td>\n",
              "    </tr>\n",
              "  </tbody>\n",
              "</table>\n",
              "</div>"
            ],
            "text/plain": [
              "  Order ID                     Product  ...  Sales Value $                City\n",
              "0   236670            Wired Headphones  ...          23.98        Seattle (WA)\n",
              "1   236671  Bose SoundSport Headphones  ...          99.99         Dallas (TX)\n",
              "2   236672                      iPhone  ...         700.00       Portland (OR)\n",
              "3   236673       AA Batteries (4-pack)  ...           7.68    Los Angeles (CA)\n",
              "4   236674       AA Batteries (4-pack)  ...           7.68  New York City (NY)\n",
              "\n",
              "[5 rows x 9 columns]"
            ]
          },
          "metadata": {
            "tags": []
          },
          "execution_count": 100
        }
      ]
    },
    {
      "cell_type": "code",
      "metadata": {
        "id": "UPlipj2Fy-z1",
        "colab_type": "code",
        "colab": {
          "base_uri": "https://localhost:8080/",
          "height": 73
        },
        "outputId": "bf507767-660b-4c90-bf51-a6aec47128eb"
      },
      "source": [
        "#checking cities in the City column\n",
        "all_data['City'].unique()"
      ],
      "execution_count": 93,
      "outputs": [
        {
          "output_type": "execute_result",
          "data": {
            "text/plain": [
              "array(['Seattle WA', 'Dallas TX', 'Portland OR', 'Los Angeles CA',\n",
              "       'New York City NY', 'San Francisco CA', 'Boston MA', 'Atlanta GA',\n",
              "       'Austin TX', 'Portland ME'], dtype=object)"
            ]
          },
          "metadata": {
            "tags": []
          },
          "execution_count": 93
        }
      ]
    },
    {
      "cell_type": "code",
      "metadata": {
        "id": "-8-rGKqX5E3l",
        "colab_type": "code",
        "colab": {
          "base_uri": "https://localhost:8080/",
          "height": 395
        },
        "outputId": "23bd2533-ca59-409e-ec81-59ee421e862a"
      },
      "source": [
        "#grouping by City\n",
        "results2 = all_data.groupby('City').sum()\n",
        "results2"
      ],
      "execution_count": 108,
      "outputs": [
        {
          "output_type": "execute_result",
          "data": {
            "text/html": [
              "<div>\n",
              "<style scoped>\n",
              "    .dataframe tbody tr th:only-of-type {\n",
              "        vertical-align: middle;\n",
              "    }\n",
              "\n",
              "    .dataframe tbody tr th {\n",
              "        vertical-align: top;\n",
              "    }\n",
              "\n",
              "    .dataframe thead th {\n",
              "        text-align: right;\n",
              "    }\n",
              "</style>\n",
              "<table border=\"1\" class=\"dataframe\">\n",
              "  <thead>\n",
              "    <tr style=\"text-align: right;\">\n",
              "      <th></th>\n",
              "      <th>Quantity Ordered</th>\n",
              "      <th>Price Each</th>\n",
              "      <th>Month</th>\n",
              "      <th>Sales Value $</th>\n",
              "    </tr>\n",
              "    <tr>\n",
              "      <th>City</th>\n",
              "      <th></th>\n",
              "      <th></th>\n",
              "      <th></th>\n",
              "      <th></th>\n",
              "    </tr>\n",
              "  </thead>\n",
              "  <tbody>\n",
              "    <tr>\n",
              "      <th>Atlanta (GA)</th>\n",
              "      <td>16602.0</td>\n",
              "      <td>2.779908e+06</td>\n",
              "      <td>104794</td>\n",
              "      <td>2.795499e+06</td>\n",
              "    </tr>\n",
              "    <tr>\n",
              "      <th>Austin (TX)</th>\n",
              "      <td>11153.0</td>\n",
              "      <td>1.809874e+06</td>\n",
              "      <td>69829</td>\n",
              "      <td>1.819582e+06</td>\n",
              "    </tr>\n",
              "    <tr>\n",
              "      <th>Boston (MA)</th>\n",
              "      <td>22528.0</td>\n",
              "      <td>3.637410e+06</td>\n",
              "      <td>141112</td>\n",
              "      <td>3.661642e+06</td>\n",
              "    </tr>\n",
              "    <tr>\n",
              "      <th>Dallas (TX)</th>\n",
              "      <td>16730.0</td>\n",
              "      <td>2.752628e+06</td>\n",
              "      <td>104620</td>\n",
              "      <td>2.767975e+06</td>\n",
              "    </tr>\n",
              "    <tr>\n",
              "      <th>Los Angeles (CA)</th>\n",
              "      <td>33289.0</td>\n",
              "      <td>5.421435e+06</td>\n",
              "      <td>208325</td>\n",
              "      <td>5.452571e+06</td>\n",
              "    </tr>\n",
              "    <tr>\n",
              "      <th>New York City (NY)</th>\n",
              "      <td>27932.0</td>\n",
              "      <td>4.635371e+06</td>\n",
              "      <td>175741</td>\n",
              "      <td>4.664317e+06</td>\n",
              "    </tr>\n",
              "    <tr>\n",
              "      <th>Portland (ME)</th>\n",
              "      <td>2750.0</td>\n",
              "      <td>4.471893e+05</td>\n",
              "      <td>17144</td>\n",
              "      <td>4.497583e+05</td>\n",
              "    </tr>\n",
              "    <tr>\n",
              "      <th>Portland (OR)</th>\n",
              "      <td>11303.0</td>\n",
              "      <td>1.860558e+06</td>\n",
              "      <td>70621</td>\n",
              "      <td>1.870732e+06</td>\n",
              "    </tr>\n",
              "    <tr>\n",
              "      <th>San Francisco (CA)</th>\n",
              "      <td>50239.0</td>\n",
              "      <td>8.211462e+06</td>\n",
              "      <td>315520</td>\n",
              "      <td>8.262204e+06</td>\n",
              "    </tr>\n",
              "    <tr>\n",
              "      <th>Seattle (WA)</th>\n",
              "      <td>16553.0</td>\n",
              "      <td>2.733296e+06</td>\n",
              "      <td>104941</td>\n",
              "      <td>2.747755e+06</td>\n",
              "    </tr>\n",
              "  </tbody>\n",
              "</table>\n",
              "</div>"
            ],
            "text/plain": [
              "                    Quantity Ordered    Price Each   Month  Sales Value $\n",
              "City                                                                     \n",
              "Atlanta (GA)                 16602.0  2.779908e+06  104794   2.795499e+06\n",
              "Austin (TX)                  11153.0  1.809874e+06   69829   1.819582e+06\n",
              "Boston (MA)                  22528.0  3.637410e+06  141112   3.661642e+06\n",
              "Dallas (TX)                  16730.0  2.752628e+06  104620   2.767975e+06\n",
              "Los Angeles (CA)             33289.0  5.421435e+06  208325   5.452571e+06\n",
              "New York City (NY)           27932.0  4.635371e+06  175741   4.664317e+06\n",
              "Portland (ME)                 2750.0  4.471893e+05   17144   4.497583e+05\n",
              "Portland (OR)                11303.0  1.860558e+06   70621   1.870732e+06\n",
              "San Francisco (CA)           50239.0  8.211462e+06  315520   8.262204e+06\n",
              "Seattle (WA)                 16553.0  2.733296e+06  104941   2.747755e+06"
            ]
          },
          "metadata": {
            "tags": []
          },
          "execution_count": 108
        }
      ]
    },
    {
      "cell_type": "code",
      "metadata": {
        "id": "3kAcEXh68MBn",
        "colab_type": "code",
        "colab": {
          "base_uri": "https://localhost:8080/",
          "height": 374
        },
        "outputId": "da4b3156-c8df-4df5-d758-f72f08e9187c"
      },
      "source": [
        "#plot - what city had the largest amount of sales\n",
        "cities = [city for city, df in all_data.groupby('City')]\n",
        "\n",
        "plt.bar(cities, results2['Sales Value $'])\n",
        "plt.xticks(cities, rotation = 'vertical', size = 10)\n",
        "plt.ylabel('Sales Value in $')\n",
        "plt.xlabel('City name and state')\n",
        "plt.show()\n",
        "#Answer - city with highest amount of sales is San Francisco"
      ],
      "execution_count": 113,
      "outputs": [
        {
          "output_type": "display_data",
          "data": {
            "image/png": "[encoded data removed]",
            "text/plain": [
              "<Figure size 432x288 with 1 Axes>"
            ]
          },
          "metadata": {
            "tags": [],
            "needs_background": "light"
          }
        }
      ]
    },
    {
      "cell_type": "markdown",
      "metadata": {
        "id": "mtX76OLv-PI3",
        "colab_type": "text"
      },
      "source": [
        "Question 3: What time should we display advertisements to maximize likelyhood of customer buying a product"
      ]
    },
    {
      "cell_type": "code",
      "metadata": {
        "id": "h7uaq1Nw-U4s",
        "colab_type": "code",
        "colab": {}
      },
      "source": [
        "#changing to datetime format\n",
        "#all_data['Order Date'] = pd.to_datetime(all_data['Order Date'])\n"
      ],
      "execution_count": 121,
      "outputs": []
    },
    {
      "cell_type": "code",
      "metadata": {
        "id": "axPrZvf__Vyy",
        "colab_type": "code",
        "colab": {
          "base_uri": "https://localhost:8080/",
          "height": 206
        },
        "outputId": "28ce8ba0-c499-450c-9186-1f6291aff4b2"
      },
      "source": [
        "all_data['Hour'] = all_data['Order Date'].dt.hour\n",
        "all_data['Minute'] = all_data['Order Date'].dt.minute\n",
        "all_data['Month'] = all_data['Order Date'].dt.month\n",
        "all_data['Day'] = all_data['Order Date'].dt.day\n",
        "all_data.head()"
      ],
      "execution_count": 122,
      "outputs": [
        {
          "output_type": "execute_result",
          "data": {
            "text/html": [
              "<div>\n",
              "<style scoped>\n",
              "    .dataframe tbody tr th:only-of-type {\n",
              "        vertical-align: middle;\n",
              "    }\n",
              "\n",
              "    .dataframe tbody tr th {\n",
              "        vertical-align: top;\n",
              "    }\n",
              "\n",
              "    .dataframe thead th {\n",
              "        text-align: right;\n",
              "    }\n",
              "</style>\n",
              "<table border=\"1\" class=\"dataframe\">\n",
              "  <thead>\n",
              "    <tr style=\"text-align: right;\">\n",
              "      <th></th>\n",
              "      <th>Order ID</th>\n",
              "      <th>Product</th>\n",
              "      <th>Quantity Ordered</th>\n",
              "      <th>Price Each</th>\n",
              "      <th>Order Date</th>\n",
              "      <th>Purchase Address</th>\n",
              "      <th>Sales Value $</th>\n",
              "      <th>City</th>\n",
              "      <th>Hour</th>\n",
              "      <th>Day</th>\n",
              "      <th>Minute</th>\n",
              "      <th>Month</th>\n",
              "    </tr>\n",
              "  </thead>\n",
              "  <tbody>\n",
              "    <tr>\n",
              "      <th>0</th>\n",
              "      <td>236670</td>\n",
              "      <td>Wired Headphones</td>\n",
              "      <td>2.0</td>\n",
              "      <td>11.99</td>\n",
              "      <td>2019-08-31 22:21:00</td>\n",
              "      <td>359 Spruce St, Seattle, WA 98101</td>\n",
              "      <td>23.98</td>\n",
              "      <td>Seattle (WA)</td>\n",
              "      <td>22</td>\n",
              "      <td>31</td>\n",
              "      <td>21</td>\n",
              "      <td>8</td>\n",
              "    </tr>\n",
              "    <tr>\n",
              "      <th>1</th>\n",
              "      <td>236671</td>\n",
              "      <td>Bose SoundSport Headphones</td>\n",
              "      <td>1.0</td>\n",
              "      <td>99.99</td>\n",
              "      <td>2019-08-15 15:11:00</td>\n",
              "      <td>492 Ridge St, Dallas, TX 75001</td>\n",
              "      <td>99.99</td>\n",
              "      <td>Dallas (TX)</td>\n",
              "      <td>15</td>\n",
              "      <td>15</td>\n",
              "      <td>11</td>\n",
              "      <td>8</td>\n",
              "    </tr>\n",
              "    <tr>\n",
              "      <th>2</th>\n",
              "      <td>236672</td>\n",
              "      <td>iPhone</td>\n",
              "      <td>1.0</td>\n",
              "      <td>700.00</td>\n",
              "      <td>2019-08-06 14:40:00</td>\n",
              "      <td>149 7th St, Portland, OR 97035</td>\n",
              "      <td>700.00</td>\n",
              "      <td>Portland (OR)</td>\n",
              "      <td>14</td>\n",
              "      <td>6</td>\n",
              "      <td>40</td>\n",
              "      <td>8</td>\n",
              "    </tr>\n",
              "    <tr>\n",
              "      <th>3</th>\n",
              "      <td>236673</td>\n",
              "      <td>AA Batteries (4-pack)</td>\n",
              "      <td>2.0</td>\n",
              "      <td>3.84</td>\n",
              "      <td>2019-08-29 20:59:00</td>\n",
              "      <td>631 2nd St, Los Angeles, CA 90001</td>\n",
              "      <td>7.68</td>\n",
              "      <td>Los Angeles (CA)</td>\n",
              "      <td>20</td>\n",
              "      <td>29</td>\n",
              "      <td>59</td>\n",
              "      <td>8</td>\n",
              "    </tr>\n",
              "    <tr>\n",
              "      <th>4</th>\n",
              "      <td>236674</td>\n",
              "      <td>AA Batteries (4-pack)</td>\n",
              "      <td>2.0</td>\n",
              "      <td>3.84</td>\n",
              "      <td>2019-08-15 19:53:00</td>\n",
              "      <td>736 14th St, New York City, NY 10001</td>\n",
              "      <td>7.68</td>\n",
              "      <td>New York City (NY)</td>\n",
              "      <td>19</td>\n",
              "      <td>15</td>\n",
              "      <td>53</td>\n",
              "      <td>8</td>\n",
              "    </tr>\n",
              "  </tbody>\n",
              "</table>\n",
              "</div>"
            ],
            "text/plain": [
              "  Order ID                     Product  Quantity Ordered  ...  Day Minute Month\n",
              "0   236670            Wired Headphones               2.0  ...   31     21     8\n",
              "1   236671  Bose SoundSport Headphones               1.0  ...   15     11     8\n",
              "2   236672                      iPhone               1.0  ...    6     40     8\n",
              "3   236673       AA Batteries (4-pack)               2.0  ...   29     59     8\n",
              "4   236674       AA Batteries (4-pack)               2.0  ...   15     53     8\n",
              "\n",
              "[5 rows x 12 columns]"
            ]
          },
          "metadata": {
            "tags": []
          },
          "execution_count": 122
        }
      ]
    },
    {
      "cell_type": "code",
      "metadata": {
        "id": "qEO9CK-z_8ih",
        "colab_type": "code",
        "colab": {
          "base_uri": "https://localhost:8080/",
          "height": 1000
        },
        "outputId": "2297025c-7640-4bf1-e4f0-a5d5c30ba714"
      },
      "source": [
        "#quick plot to see what is the sales \n",
        "hours = [hour for hour, df in all_data.groupby('Hour')]\n",
        "\n",
        "#plotting amount of sales based on the hour\n",
        "plt.plot(hours, all_data.groupby(['Hour']).count())\n",
        "plt.xticks(hours)\n",
        "plt.xlabel ('Hour')\n",
        "plt.ylabel('Number of Orders')\n",
        "plt.grid()\n",
        "plt.show()\n",
        "all_data.groupby(['Hour']).count()\n",
        "\n",
        "#Peaks of numbers of orders based on hour\n",
        "#Recommended time of ads - before 11 am and before 7pm"
      ],
      "execution_count": 130,
      "outputs": [
        {
          "output_type": "display_data",
          "data": {
            "image/png": "[encoded data removed]",
            "text/plain": [
              "<Figure size 432x288 with 1 Axes>"
            ]
          },
          "metadata": {
            "tags": [],
            "needs_background": "light"
          }
        },
        {
          "output_type": "execute_result",
          "data": {
            "text/html": [
              "<div>\n",
              "<style scoped>\n",
              "    .dataframe tbody tr th:only-of-type {\n",
              "        vertical-align: middle;\n",
              "    }\n",
              "\n",
              "    .dataframe tbody tr th {\n",
              "        vertical-align: top;\n",
              "    }\n",
              "\n",
              "    .dataframe thead th {\n",
              "        text-align: right;\n",
              "    }\n",
              "</style>\n",
              "<table border=\"1\" class=\"dataframe\">\n",
              "  <thead>\n",
              "    <tr style=\"text-align: right;\">\n",
              "      <th></th>\n",
              "      <th>Order ID</th>\n",
              "      <th>Product</th>\n",
              "      <th>Quantity Ordered</th>\n",
              "      <th>Price Each</th>\n",
              "      <th>Order Date</th>\n",
              "      <th>Purchase Address</th>\n",
              "      <th>Sales Value $</th>\n",
              "      <th>City</th>\n",
              "      <th>Day</th>\n",
              "      <th>Minute</th>\n",
              "      <th>Month</th>\n",
              "    </tr>\n",
              "    <tr>\n",
              "      <th>Hour</th>\n",
              "      <th></th>\n",
              "      <th></th>\n",
              "      <th></th>\n",
              "      <th></th>\n",
              "      <th></th>\n",
              "      <th></th>\n",
              "      <th></th>\n",
              "      <th></th>\n",
              "      <th></th>\n",
              "      <th></th>\n",
              "      <th></th>\n",
              "    </tr>\n",
              "  </thead>\n",
              "  <tbody>\n",
              "    <tr>\n",
              "      <th>0</th>\n",
              "      <td>3910</td>\n",
              "      <td>3910</td>\n",
              "      <td>3910</td>\n",
              "      <td>3910</td>\n",
              "      <td>3910</td>\n",
              "      <td>3910</td>\n",
              "      <td>3910</td>\n",
              "      <td>3910</td>\n",
              "      <td>3910</td>\n",
              "      <td>3910</td>\n",
              "      <td>3910</td>\n",
              "    </tr>\n",
              "    <tr>\n",
              "      <th>1</th>\n",
              "      <td>2350</td>\n",
              "      <td>2350</td>\n",
              "      <td>2350</td>\n",
              "      <td>2350</td>\n",
              "      <td>2350</td>\n",
              "      <td>2350</td>\n",
              "      <td>2350</td>\n",
              "      <td>2350</td>\n",
              "      <td>2350</td>\n",
              "      <td>2350</td>\n",
              "      <td>2350</td>\n",
              "    </tr>\n",
              "    <tr>\n",
              "      <th>2</th>\n",
              "      <td>1243</td>\n",
              "      <td>1243</td>\n",
              "      <td>1243</td>\n",
              "      <td>1243</td>\n",
              "      <td>1243</td>\n",
              "      <td>1243</td>\n",
              "      <td>1243</td>\n",
              "      <td>1243</td>\n",
              "      <td>1243</td>\n",
              "      <td>1243</td>\n",
              "      <td>1243</td>\n",
              "    </tr>\n",
              "    <tr>\n",
              "      <th>3</th>\n",
              "      <td>831</td>\n",
              "      <td>831</td>\n",
              "      <td>831</td>\n",
              "      <td>831</td>\n",
              "      <td>831</td>\n",
              "      <td>831</td>\n",
              "      <td>831</td>\n",
              "      <td>831</td>\n",
              "      <td>831</td>\n",
              "      <td>831</td>\n",
              "      <td>831</td>\n",
              "    </tr>\n",
              "    <tr>\n",
              "      <th>4</th>\n",
              "      <td>854</td>\n",
              "      <td>854</td>\n",
              "      <td>854</td>\n",
              "      <td>854</td>\n",
              "      <td>854</td>\n",
              "      <td>854</td>\n",
              "      <td>854</td>\n",
              "      <td>854</td>\n",
              "      <td>854</td>\n",
              "      <td>854</td>\n",
              "      <td>854</td>\n",
              "    </tr>\n",
              "    <tr>\n",
              "      <th>5</th>\n",
              "      <td>1321</td>\n",
              "      <td>1321</td>\n",
              "      <td>1321</td>\n",
              "      <td>1321</td>\n",
              "      <td>1321</td>\n",
              "      <td>1321</td>\n",
              "      <td>1321</td>\n",
              "      <td>1321</td>\n",
              "      <td>1321</td>\n",
              "      <td>1321</td>\n",
              "      <td>1321</td>\n",
              "    </tr>\n",
              "    <tr>\n",
              "      <th>6</th>\n",
              "      <td>2482</td>\n",
              "      <td>2482</td>\n",
              "      <td>2482</td>\n",
              "      <td>2482</td>\n",
              "      <td>2482</td>\n",
              "      <td>2482</td>\n",
              "      <td>2482</td>\n",
              "      <td>2482</td>\n",
              "      <td>2482</td>\n",
              "      <td>2482</td>\n",
              "      <td>2482</td>\n",
              "    </tr>\n",
              "    <tr>\n",
              "      <th>7</th>\n",
              "      <td>4011</td>\n",
              "      <td>4011</td>\n",
              "      <td>4011</td>\n",
              "      <td>4011</td>\n",
              "      <td>4011</td>\n",
              "      <td>4011</td>\n",
              "      <td>4011</td>\n",
              "      <td>4011</td>\n",
              "      <td>4011</td>\n",
              "      <td>4011</td>\n",
              "      <td>4011</td>\n",
              "    </tr>\n",
              "    <tr>\n",
              "      <th>8</th>\n",
              "      <td>6256</td>\n",
              "      <td>6256</td>\n",
              "      <td>6256</td>\n",
              "      <td>6256</td>\n",
              "      <td>6256</td>\n",
              "      <td>6256</td>\n",
              "      <td>6256</td>\n",
              "      <td>6256</td>\n",
              "      <td>6256</td>\n",
              "      <td>6256</td>\n",
              "      <td>6256</td>\n",
              "    </tr>\n",
              "    <tr>\n",
              "      <th>9</th>\n",
              "      <td>8748</td>\n",
              "      <td>8748</td>\n",
              "      <td>8748</td>\n",
              "      <td>8748</td>\n",
              "      <td>8748</td>\n",
              "      <td>8748</td>\n",
              "      <td>8748</td>\n",
              "      <td>8748</td>\n",
              "      <td>8748</td>\n",
              "      <td>8748</td>\n",
              "      <td>8748</td>\n",
              "    </tr>\n",
              "    <tr>\n",
              "      <th>10</th>\n",
              "      <td>10944</td>\n",
              "      <td>10944</td>\n",
              "      <td>10944</td>\n",
              "      <td>10944</td>\n",
              "      <td>10944</td>\n",
              "      <td>10944</td>\n",
              "      <td>10944</td>\n",
              "      <td>10944</td>\n",
              "      <td>10944</td>\n",
              "      <td>10944</td>\n",
              "      <td>10944</td>\n",
              "    </tr>\n",
              "    <tr>\n",
              "      <th>11</th>\n",
              "      <td>12411</td>\n",
              "      <td>12411</td>\n",
              "      <td>12411</td>\n",
              "      <td>12411</td>\n",
              "      <td>12411</td>\n",
              "      <td>12411</td>\n",
              "      <td>12411</td>\n",
              "      <td>12411</td>\n",
              "      <td>12411</td>\n",
              "      <td>12411</td>\n",
              "      <td>12411</td>\n",
              "    </tr>\n",
              "    <tr>\n",
              "      <th>12</th>\n",
              "      <td>12587</td>\n",
              "      <td>12587</td>\n",
              "      <td>12587</td>\n",
              "      <td>12587</td>\n",
              "      <td>12587</td>\n",
              "      <td>12587</td>\n",
              "      <td>12587</td>\n",
              "      <td>12587</td>\n",
              "      <td>12587</td>\n",
              "      <td>12587</td>\n",
              "      <td>12587</td>\n",
              "    </tr>\n",
              "    <tr>\n",
              "      <th>13</th>\n",
              "      <td>12129</td>\n",
              "      <td>12129</td>\n",
              "      <td>12129</td>\n",
              "      <td>12129</td>\n",
              "      <td>12129</td>\n",
              "      <td>12129</td>\n",
              "      <td>12129</td>\n",
              "      <td>12129</td>\n",
              "      <td>12129</td>\n",
              "      <td>12129</td>\n",
              "      <td>12129</td>\n",
              "    </tr>\n",
              "    <tr>\n",
              "      <th>14</th>\n",
              "      <td>10984</td>\n",
              "      <td>10984</td>\n",
              "      <td>10984</td>\n",
              "      <td>10984</td>\n",
              "      <td>10984</td>\n",
              "      <td>10984</td>\n",
              "      <td>10984</td>\n",
              "      <td>10984</td>\n",
              "      <td>10984</td>\n",
              "      <td>10984</td>\n",
              "      <td>10984</td>\n",
              "    </tr>\n",
              "    <tr>\n",
              "      <th>15</th>\n",
              "      <td>10175</td>\n",
              "      <td>10175</td>\n",
              "      <td>10175</td>\n",
              "      <td>10175</td>\n",
              "      <td>10175</td>\n",
              "      <td>10175</td>\n",
              "      <td>10175</td>\n",
              "      <td>10175</td>\n",
              "      <td>10175</td>\n",
              "      <td>10175</td>\n",
              "      <td>10175</td>\n",
              "    </tr>\n",
              "    <tr>\n",
              "      <th>16</th>\n",
              "      <td>10384</td>\n",
              "      <td>10384</td>\n",
              "      <td>10384</td>\n",
              "      <td>10384</td>\n",
              "      <td>10384</td>\n",
              "      <td>10384</td>\n",
              "      <td>10384</td>\n",
              "      <td>10384</td>\n",
              "      <td>10384</td>\n",
              "      <td>10384</td>\n",
              "      <td>10384</td>\n",
              "    </tr>\n",
              "    <tr>\n",
              "      <th>17</th>\n",
              "      <td>10899</td>\n",
              "      <td>10899</td>\n",
              "      <td>10899</td>\n",
              "      <td>10899</td>\n",
              "      <td>10899</td>\n",
              "      <td>10899</td>\n",
              "      <td>10899</td>\n",
              "      <td>10899</td>\n",
              "      <td>10899</td>\n",
              "      <td>10899</td>\n",
              "      <td>10899</td>\n",
              "    </tr>\n",
              "    <tr>\n",
              "      <th>18</th>\n",
              "      <td>12280</td>\n",
              "      <td>12280</td>\n",
              "      <td>12280</td>\n",
              "      <td>12280</td>\n",
              "      <td>12280</td>\n",
              "      <td>12280</td>\n",
              "      <td>12280</td>\n",
              "      <td>12280</td>\n",
              "      <td>12280</td>\n",
              "      <td>12280</td>\n",
              "      <td>12280</td>\n",
              "    </tr>\n",
              "    <tr>\n",
              "      <th>19</th>\n",
              "      <td>12905</td>\n",
              "      <td>12905</td>\n",
              "      <td>12905</td>\n",
              "      <td>12905</td>\n",
              "      <td>12905</td>\n",
              "      <td>12905</td>\n",
              "      <td>12905</td>\n",
              "      <td>12905</td>\n",
              "      <td>12905</td>\n",
              "      <td>12905</td>\n",
              "      <td>12905</td>\n",
              "    </tr>\n",
              "    <tr>\n",
              "      <th>20</th>\n",
              "      <td>12228</td>\n",
              "      <td>12228</td>\n",
              "      <td>12228</td>\n",
              "      <td>12228</td>\n",
              "      <td>12228</td>\n",
              "      <td>12228</td>\n",
              "      <td>12228</td>\n",
              "      <td>12228</td>\n",
              "      <td>12228</td>\n",
              "      <td>12228</td>\n",
              "      <td>12228</td>\n",
              "    </tr>\n",
              "    <tr>\n",
              "      <th>21</th>\n",
              "      <td>10921</td>\n",
              "      <td>10921</td>\n",
              "      <td>10921</td>\n",
              "      <td>10921</td>\n",
              "      <td>10921</td>\n",
              "      <td>10921</td>\n",
              "      <td>10921</td>\n",
              "      <td>10921</td>\n",
              "      <td>10921</td>\n",
              "      <td>10921</td>\n",
              "      <td>10921</td>\n",
              "    </tr>\n",
              "    <tr>\n",
              "      <th>22</th>\n",
              "      <td>8822</td>\n",
              "      <td>8822</td>\n",
              "      <td>8822</td>\n",
              "      <td>8822</td>\n",
              "      <td>8822</td>\n",
              "      <td>8822</td>\n",
              "      <td>8822</td>\n",
              "      <td>8822</td>\n",
              "      <td>8822</td>\n",
              "      <td>8822</td>\n",
              "      <td>8822</td>\n",
              "    </tr>\n",
              "    <tr>\n",
              "      <th>23</th>\n",
              "      <td>6275</td>\n",
              "      <td>6275</td>\n",
              "      <td>6275</td>\n",
              "      <td>6275</td>\n",
              "      <td>6275</td>\n",
              "      <td>6275</td>\n",
              "      <td>6275</td>\n",
              "      <td>6275</td>\n",
              "      <td>6275</td>\n",
              "      <td>6275</td>\n",
              "      <td>6275</td>\n",
              "    </tr>\n",
              "  </tbody>\n",
              "</table>\n",
              "</div>"
            ],
            "text/plain": [
              "      Order ID  Product  Quantity Ordered  ...    Day  Minute  Month\n",
              "Hour                                       ...                      \n",
              "0         3910     3910              3910  ...   3910    3910   3910\n",
              "1         2350     2350              2350  ...   2350    2350   2350\n",
              "2         1243     1243              1243  ...   1243    1243   1243\n",
              "3          831      831               831  ...    831     831    831\n",
              "4          854      854               854  ...    854     854    854\n",
              "5         1321     1321              1321  ...   1321    1321   1321\n",
              "6         2482     2482              2482  ...   2482    2482   2482\n",
              "7         4011     4011              4011  ...   4011    4011   4011\n",
              "8         6256     6256              6256  ...   6256    6256   6256\n",
              "9         8748     8748              8748  ...   8748    8748   8748\n",
              "10       10944    10944             10944  ...  10944   10944  10944\n",
              "11       12411    12411             12411  ...  12411   12411  12411\n",
              "12       12587    12587             12587  ...  12587   12587  12587\n",
              "13       12129    12129             12129  ...  12129   12129  12129\n",
              "14       10984    10984             10984  ...  10984   10984  10984\n",
              "15       10175    10175             10175  ...  10175   10175  10175\n",
              "16       10384    10384             10384  ...  10384   10384  10384\n",
              "17       10899    10899             10899  ...  10899   10899  10899\n",
              "18       12280    12280             12280  ...  12280   12280  12280\n",
              "19       12905    12905             12905  ...  12905   12905  12905\n",
              "20       12228    12228             12228  ...  12228   12228  12228\n",
              "21       10921    10921             10921  ...  10921   10921  10921\n",
              "22        8822     8822              8822  ...   8822    8822   8822\n",
              "23        6275     6275              6275  ...   6275    6275   6275\n",
              "\n",
              "[24 rows x 11 columns]"
            ]
          },
          "metadata": {
            "tags": []
          },
          "execution_count": 130
        }
      ]
    },
    {
      "cell_type": "markdown",
      "metadata": {
        "id": "z6ivlN3kGU2_",
        "colab_type": "text"
      },
      "source": [
        "Question 4 - what products are most often sold together?"
      ]
    },
    {
      "cell_type": "code",
      "metadata": {
        "id": "o0eBN7saGak7",
        "colab_type": "code",
        "colab": {
          "base_uri": "https://localhost:8080/",
          "height": 789
        },
        "outputId": "65c41b05-c867-439c-8b68-bf9d4717880f"
      },
      "source": [
        "#creation of a \"duplicated order id\" dataframe\n",
        "df = all_data[all_data['Order ID'].duplicated(keep=False)]\n",
        "#df.head()\n",
        "df['Grouped'] = df.groupby('Order ID')['Product'].transform(lambda x: ','.join(x))\n",
        "df=df[['Order ID', 'Grouped']].drop_duplicates()\n",
        "df.head(20)"
      ],
      "execution_count": 135,
      "outputs": [
        {
          "output_type": "stream",
          "text": [
            "/usr/local/lib/python3.6/dist-packages/ipykernel_launcher.py:4: SettingWithCopyWarning: \n",
            "A value is trying to be set on a copy of a slice from a DataFrame.\n",
            "Try using .loc[row_indexer,col_indexer] = value instead\n",
            "\n",
            "See the caveats in the documentation: https://pandas.pydata.org/pandas-docs/stable/user_guide/indexing.html#returning-a-view-versus-a-copy\n",
            "  after removing the cwd from sys.path.\n"
          ],
          "name": "stderr"
        },
        {
          "output_type": "execute_result",
          "data": {
            "text/html": [
              "<div>\n",
              "<style scoped>\n",
              "    .dataframe tbody tr th:only-of-type {\n",
              "        vertical-align: middle;\n",
              "    }\n",
              "\n",
              "    .dataframe tbody tr th {\n",
              "        vertical-align: top;\n",
              "    }\n",
              "\n",
              "    .dataframe thead th {\n",
              "        text-align: right;\n",
              "    }\n",
              "</style>\n",
              "<table border=\"1\" class=\"dataframe\">\n",
              "  <thead>\n",
              "    <tr style=\"text-align: right;\">\n",
              "      <th></th>\n",
              "      <th>Order ID</th>\n",
              "      <th>Grouped</th>\n",
              "    </tr>\n",
              "  </thead>\n",
              "  <tbody>\n",
              "    <tr>\n",
              "      <th>46</th>\n",
              "      <td>236716</td>\n",
              "      <td>AA Batteries (4-pack),USB-C Charging Cable</td>\n",
              "    </tr>\n",
              "    <tr>\n",
              "      <th>60</th>\n",
              "      <td>236729</td>\n",
              "      <td>iPhone,Apple Airpods Headphones</td>\n",
              "    </tr>\n",
              "    <tr>\n",
              "      <th>62</th>\n",
              "      <td>236730</td>\n",
              "      <td>Google Phone,Wired Headphones</td>\n",
              "    </tr>\n",
              "    <tr>\n",
              "      <th>132</th>\n",
              "      <td>236799</td>\n",
              "      <td>Google Phone,Wired Headphones</td>\n",
              "    </tr>\n",
              "    <tr>\n",
              "      <th>163</th>\n",
              "      <td>236829</td>\n",
              "      <td>Vareebadd Phone,USB-C Charging Cable</td>\n",
              "    </tr>\n",
              "    <tr>\n",
              "      <th>221</th>\n",
              "      <td>236885</td>\n",
              "      <td>27in 4K Gaming Monitor,USB-C Charging Cable</td>\n",
              "    </tr>\n",
              "    <tr>\n",
              "      <th>331</th>\n",
              "      <td>236992</td>\n",
              "      <td>Google Phone,USB-C Charging Cable</td>\n",
              "    </tr>\n",
              "    <tr>\n",
              "      <th>353</th>\n",
              "      <td>237013</td>\n",
              "      <td>iPhone,Lightning Charging Cable</td>\n",
              "    </tr>\n",
              "    <tr>\n",
              "      <th>386</th>\n",
              "      <td>237045</td>\n",
              "      <td>Bose SoundSport Headphones,Wired Headphones</td>\n",
              "    </tr>\n",
              "    <tr>\n",
              "      <th>405</th>\n",
              "      <td>237063</td>\n",
              "      <td>LG Dryer,AA Batteries (4-pack)</td>\n",
              "    </tr>\n",
              "    <tr>\n",
              "      <th>410</th>\n",
              "      <td>237067</td>\n",
              "      <td>iPhone,Lightning Charging Cable</td>\n",
              "    </tr>\n",
              "    <tr>\n",
              "      <th>492</th>\n",
              "      <td>237148</td>\n",
              "      <td>iPhone,Lightning Charging Cable</td>\n",
              "    </tr>\n",
              "    <tr>\n",
              "      <th>563</th>\n",
              "      <td>237218</td>\n",
              "      <td>iPhone,Lightning Charging Cable</td>\n",
              "    </tr>\n",
              "    <tr>\n",
              "      <th>578</th>\n",
              "      <td>237232</td>\n",
              "      <td>Bose SoundSport Headphones,AAA Batteries (4-pack)</td>\n",
              "    </tr>\n",
              "    <tr>\n",
              "      <th>592</th>\n",
              "      <td>237245</td>\n",
              "      <td>AAA Batteries (4-pack),AA Batteries (4-pack)</td>\n",
              "    </tr>\n",
              "    <tr>\n",
              "      <th>599</th>\n",
              "      <td>237251</td>\n",
              "      <td>iPhone,Wired Headphones</td>\n",
              "    </tr>\n",
              "    <tr>\n",
              "      <th>610</th>\n",
              "      <td>237261</td>\n",
              "      <td>USB-C Charging Cable,Apple Airpods Headphones</td>\n",
              "    </tr>\n",
              "    <tr>\n",
              "      <th>617</th>\n",
              "      <td>237267</td>\n",
              "      <td>iPhone,Wired Headphones</td>\n",
              "    </tr>\n",
              "    <tr>\n",
              "      <th>627</th>\n",
              "      <td>237276</td>\n",
              "      <td>Lightning Charging Cable,Lightning Charging Cable</td>\n",
              "    </tr>\n",
              "    <tr>\n",
              "      <th>640</th>\n",
              "      <td>237288</td>\n",
              "      <td>Google Phone,Wired Headphones</td>\n",
              "    </tr>\n",
              "  </tbody>\n",
              "</table>\n",
              "</div>"
            ],
            "text/plain": [
              "    Order ID                                            Grouped\n",
              "46    236716         AA Batteries (4-pack),USB-C Charging Cable\n",
              "60    236729                    iPhone,Apple Airpods Headphones\n",
              "62    236730                      Google Phone,Wired Headphones\n",
              "132   236799                      Google Phone,Wired Headphones\n",
              "163   236829               Vareebadd Phone,USB-C Charging Cable\n",
              "221   236885        27in 4K Gaming Monitor,USB-C Charging Cable\n",
              "331   236992                  Google Phone,USB-C Charging Cable\n",
              "353   237013                    iPhone,Lightning Charging Cable\n",
              "386   237045        Bose SoundSport Headphones,Wired Headphones\n",
              "405   237063                     LG Dryer,AA Batteries (4-pack)\n",
              "410   237067                    iPhone,Lightning Charging Cable\n",
              "492   237148                    iPhone,Lightning Charging Cable\n",
              "563   237218                    iPhone,Lightning Charging Cable\n",
              "578   237232  Bose SoundSport Headphones,AAA Batteries (4-pack)\n",
              "592   237245       AAA Batteries (4-pack),AA Batteries (4-pack)\n",
              "599   237251                            iPhone,Wired Headphones\n",
              "610   237261      USB-C Charging Cable,Apple Airpods Headphones\n",
              "617   237267                            iPhone,Wired Headphones\n",
              "627   237276  Lightning Charging Cable,Lightning Charging Cable\n",
              "640   237288                      Google Phone,Wired Headphones"
            ]
          },
          "metadata": {
            "tags": []
          },
          "execution_count": 135
        }
      ]
    },
    {
      "cell_type": "code",
      "metadata": {
        "id": "iMeEIcEhIPUy",
        "colab_type": "code",
        "colab": {}
      },
      "source": [
        "#importing necessary libraries\n",
        "from itertools import combinations\n",
        "from collections import Counter\n"
      ],
      "execution_count": 136,
      "outputs": []
    },
    {
      "cell_type": "code",
      "metadata": {
        "id": "iJSkjZjIIYbi",
        "colab_type": "code",
        "colab": {
          "base_uri": "https://localhost:8080/",
          "height": 203
        },
        "outputId": "d034e589-73e8-47e7-cf11-b763d29b0b12"
      },
      "source": [
        "#now we need to convert the comma separated values into pairs (dictionary)\n",
        "count = Counter()\n",
        "for row in df['Grouped']:\n",
        "  row_list = row.split(',')\n",
        "  count.update(Counter(combinations(row_list,2)))\n",
        "for key, value in count.most_common(10):\n",
        "  print(key, value)\n",
        "#10 pairs of products most commonly sold together"
      ],
      "execution_count": 141,
      "outputs": [
        {
          "output_type": "stream",
          "text": [
            "('iPhone', 'Lightning Charging Cable') 1005\n",
            "('Google Phone', 'USB-C Charging Cable') 987\n",
            "('iPhone', 'Wired Headphones') 447\n",
            "('Google Phone', 'Wired Headphones') 414\n",
            "('Vareebadd Phone', 'USB-C Charging Cable') 361\n",
            "('iPhone', 'Apple Airpods Headphones') 360\n",
            "('Google Phone', 'Bose SoundSport Headphones') 220\n",
            "('USB-C Charging Cable', 'Wired Headphones') 160\n",
            "('Vareebadd Phone', 'Wired Headphones') 143\n",
            "('Lightning Charging Cable', 'Wired Headphones') 92\n"
          ],
          "name": "stdout"
        }
      ]
    },
    {
      "cell_type": "code",
      "metadata": {
        "id": "69lGyviSJCQ3",
        "colab_type": "code",
        "colab": {
          "base_uri": "https://localhost:8080/",
          "height": 203
        },
        "outputId": "116703b2-63a7-4c4a-d062-c5b1736523ea"
      },
      "source": [
        "#bonus - top 10 sets of 3 products most sold together\n",
        "count = Counter()\n",
        "for row in df['Grouped']:\n",
        "  row_list = row.split(',')\n",
        "  count.update(Counter(combinations(row_list,3)))\n",
        "for key, value in count.most_common(10):\n",
        "  print(key, value)"
      ],
      "execution_count": 142,
      "outputs": [
        {
          "output_type": "stream",
          "text": [
            "('Google Phone', 'USB-C Charging Cable', 'Wired Headphones') 87\n",
            "('iPhone', 'Lightning Charging Cable', 'Wired Headphones') 62\n",
            "('iPhone', 'Lightning Charging Cable', 'Apple Airpods Headphones') 47\n",
            "('Google Phone', 'USB-C Charging Cable', 'Bose SoundSport Headphones') 35\n",
            "('Vareebadd Phone', 'USB-C Charging Cable', 'Wired Headphones') 33\n",
            "('iPhone', 'Apple Airpods Headphones', 'Wired Headphones') 27\n",
            "('Google Phone', 'Bose SoundSport Headphones', 'Wired Headphones') 24\n",
            "('Vareebadd Phone', 'USB-C Charging Cable', 'Bose SoundSport Headphones') 16\n",
            "('Vareebadd Phone', 'Bose SoundSport Headphones', 'Wired Headphones') 5\n",
            "('USB-C Charging Cable', 'Bose SoundSport Headphones', 'Wired Headphones') 5\n"
          ],
          "name": "stdout"
        }
      ]
    }
  ]
}